{
 "cells": [
  {
   "cell_type": "markdown",
   "id": "c4f992f7-4696-4217-b2d7-0c2623574a3e",
   "metadata": {},
   "source": [
    "quick check on number of cemeteries etc"
   ]
  },
  {
   "cell_type": "code",
   "execution_count": 5,
   "id": "77f76c78-8ee8-4d95-ac84-6d4e4127e113",
   "metadata": {},
   "outputs": [],
   "source": [
    "import pandas as pd\n",
    "import geopandas as gpd\n",
    "import matplotlib.pyplot as plt\n",
    "import contextily as ctx #for basemaps on the matplotlib plots\n",
    "import folium\n",
    "import branca\n",
    "import seaborn as sns #new from w9 dataviz"
   ]
  },
  {
   "cell_type": "code",
   "execution_count": 6,
   "id": "29fa1ff3-d1c7-4407-9619-788aebd227f1",
   "metadata": {},
   "outputs": [
    {
     "name": "stdout",
     "output_type": "stream",
     "text": [
      "<class 'geopandas.geodataframe.GeoDataFrame'>\n",
      "RangeIndex: 1241 entries, 0 to 1240\n",
      "Data columns (total 30 columns):\n",
      " #   Column             Non-Null Count  Dtype   \n",
      "---  ------             --------------  -----   \n",
      " 0   FIPS               1241 non-null   object  \n",
      " 1   Join_Count         1241 non-null   int64   \n",
      " 2   DIST_SUP           1241 non-null   int64   \n",
      " 3   CITY_NAME          997 non-null    object  \n",
      " 4   UNINCORP_NAME      272 non-null    object  \n",
      " 5   JURISDICTION       1241 non-null   object  \n",
      " 6   UNIT_ID            1241 non-null   float64 \n",
      " 7   PARK_NAME          1241 non-null   object  \n",
      " 8   ACCESS_TYP         1241 non-null   object  \n",
      " 9   RPT_ACRES          1241 non-null   float64 \n",
      " 10  GIS_ACRES          1241 non-null   float64 \n",
      " 11  AGNCY_NAME         1241 non-null   object  \n",
      " 12  AGNCY_TYP          1241 non-null   object  \n",
      " 13  COGP_TYP           1241 non-null   object  \n",
      " 14  AMEN_RPT           1240 non-null   object  \n",
      " 15  PRKINF_CND         1239 non-null   object  \n",
      " 16  AM_OPNSP           1239 non-null   object  \n",
      " 17  AM_TRLS            1239 non-null   object  \n",
      " 18  TOTAL_GOOD         1240 non-null   float64 \n",
      " 19  TOTAL_FAIR         1240 non-null   float64 \n",
      " 20  TOTAL_POOR         1240 non-null   float64 \n",
      " 21  RSTRM              1241 non-null   float64 \n",
      " 22  TYPE               1241 non-null   object  \n",
      " 23  CENTER_LAT         1241 non-null   float64 \n",
      " 24  CENTER_LON         1241 non-null   float64 \n",
      " 25  Shape__Area        1241 non-null   float64 \n",
      " 26  Shape__Length      1241 non-null   float64 \n",
      " 27  Score              1241 non-null   float64 \n",
      " 28  CEMETERY_GOLF_ETC  1241 non-null   object  \n",
      " 29  geometry           1241 non-null   geometry\n",
      "dtypes: float64(12), geometry(1), int64(2), object(15)\n",
      "memory usage: 291.0+ KB\n"
     ]
    }
   ],
   "source": [
    "parks = gpd.read_file('data/open_parks_d2d5.geojson')\n",
    "parks.info()"
   ]
  },
  {
   "cell_type": "code",
   "execution_count": 7,
   "id": "f6dd15e7-a316-4da4-8dcb-3cb7b268ed54",
   "metadata": {},
   "outputs": [
    {
     "data": {
      "text/html": [
       "<div>\n",
       "<style scoped>\n",
       "    .dataframe tbody tr th:only-of-type {\n",
       "        vertical-align: middle;\n",
       "    }\n",
       "\n",
       "    .dataframe tbody tr th {\n",
       "        vertical-align: top;\n",
       "    }\n",
       "\n",
       "    .dataframe thead th {\n",
       "        text-align: right;\n",
       "    }\n",
       "</style>\n",
       "<table border=\"1\" class=\"dataframe\">\n",
       "  <thead>\n",
       "    <tr style=\"text-align: right;\">\n",
       "      <th></th>\n",
       "      <th>DIST_SUP</th>\n",
       "      <th>CEMETERY_GOLF_ETC</th>\n",
       "      <th>counts</th>\n",
       "    </tr>\n",
       "  </thead>\n",
       "  <tbody>\n",
       "    <tr>\n",
       "      <th>0</th>\n",
       "      <td>2</td>\n",
       "      <td>Golf Course</td>\n",
       "      <td>7</td>\n",
       "    </tr>\n",
       "    <tr>\n",
       "      <th>1</th>\n",
       "      <td>2</td>\n",
       "      <td>No Specification</td>\n",
       "      <td>393</td>\n",
       "    </tr>\n",
       "    <tr>\n",
       "      <th>2</th>\n",
       "      <td>2</td>\n",
       "      <td>Parkway</td>\n",
       "      <td>29</td>\n",
       "    </tr>\n",
       "    <tr>\n",
       "      <th>3</th>\n",
       "      <td>5</td>\n",
       "      <td>Cemetery</td>\n",
       "      <td>5</td>\n",
       "    </tr>\n",
       "    <tr>\n",
       "      <th>4</th>\n",
       "      <td>5</td>\n",
       "      <td>Golf Course</td>\n",
       "      <td>13</td>\n",
       "    </tr>\n",
       "    <tr>\n",
       "      <th>5</th>\n",
       "      <td>5</td>\n",
       "      <td>No Specification</td>\n",
       "      <td>792</td>\n",
       "    </tr>\n",
       "    <tr>\n",
       "      <th>6</th>\n",
       "      <td>5</td>\n",
       "      <td>Parkway</td>\n",
       "      <td>2</td>\n",
       "    </tr>\n",
       "  </tbody>\n",
       "</table>\n",
       "</div>"
      ],
      "text/plain": [
       "   DIST_SUP CEMETERY_GOLF_ETC  counts\n",
       "0         2       Golf Course       7\n",
       "1         2  No Specification     393\n",
       "2         2           Parkway      29\n",
       "3         5          Cemetery       5\n",
       "4         5       Golf Course      13\n",
       "5         5  No Specification     792\n",
       "6         5           Parkway       2"
      ]
     },
     "execution_count": 7,
     "metadata": {},
     "output_type": "execute_result"
    }
   ],
   "source": [
    "counts_parks = parks.groupby(['DIST_SUP', 'CEMETERY_GOLF_ETC']).size().reset_index(name='counts')\n",
    "counts_parks"
   ]
  },
  {
   "cell_type": "code",
   "execution_count": 13,
   "id": "b1988fbc-cacc-4cf9-b248-95e632d160f8",
   "metadata": {},
   "outputs": [
    {
     "data": {
      "text/plain": [
       "41"
      ]
     },
     "execution_count": 13,
     "metadata": {},
     "output_type": "execute_result"
    }
   ],
   "source": [
    "parks[(parks['DIST_SUP'] == 2) & (parks['Score'] == 1)].shape[0]\n"
   ]
  },
  {
   "cell_type": "code",
   "execution_count": 14,
   "id": "fc386bce-980b-4c4f-8c5c-5e68de3d5db6",
   "metadata": {},
   "outputs": [
    {
     "data": {
      "text/plain": [
       "71"
      ]
     },
     "execution_count": 14,
     "metadata": {},
     "output_type": "execute_result"
    }
   ],
   "source": [
    "parks[(parks['DIST_SUP'] == 5) & (parks['Score'] == 1)].shape[0]"
   ]
  },
  {
   "cell_type": "code",
   "execution_count": 17,
   "id": "b340031b-aa5b-437d-9537-f4b36730a5c1",
   "metadata": {},
   "outputs": [
    {
     "data": {
      "text/plain": [
       "153"
      ]
     },
     "execution_count": 17,
     "metadata": {},
     "output_type": "execute_result"
    }
   ],
   "source": [
    "parks[(parks['DIST_SUP'] == 2) & (parks['Score'] < 1) & (parks['Score'] >= 0.5)].shape[0]"
   ]
  },
  {
   "cell_type": "code",
   "execution_count": 18,
   "id": "92012cf0-4b8a-4c1b-b70e-1581887a893a",
   "metadata": {},
   "outputs": [
    {
     "data": {
      "text/plain": [
       "204"
      ]
     },
     "execution_count": 18,
     "metadata": {},
     "output_type": "execute_result"
    }
   ],
   "source": [
    "parks[(parks['DIST_SUP'] == 5) & (parks['Score'] < 1) & (parks['Score'] >= 0.5)].shape[0]"
   ]
  },
  {
   "cell_type": "code",
   "execution_count": 19,
   "id": "6a76abd7-38d2-4b71-91f4-089cc9b150f6",
   "metadata": {},
   "outputs": [
    {
     "data": {
      "text/plain": [
       "42"
      ]
     },
     "execution_count": 19,
     "metadata": {},
     "output_type": "execute_result"
    }
   ],
   "source": [
    "parks[(parks['DIST_SUP'] == 2) & (parks['Score'] < 0.5) & (parks['Score'] > 0)].shape[0]"
   ]
  },
  {
   "cell_type": "code",
   "execution_count": 20,
   "id": "1fee3a65-c114-43b0-8a60-ca7f7b8df1c9",
   "metadata": {},
   "outputs": [
    {
     "data": {
      "text/plain": [
       "45"
      ]
     },
     "execution_count": 20,
     "metadata": {},
     "output_type": "execute_result"
    }
   ],
   "source": [
    "parks[(parks['DIST_SUP'] ==5) & (parks['Score'] < 0.5) & (parks['Score'] > 0)].shape[0]"
   ]
  },
  {
   "cell_type": "code",
   "execution_count": 21,
   "id": "51b775b3-35df-432d-a7af-6408642f9ff9",
   "metadata": {},
   "outputs": [
    {
     "data": {
      "text/plain": [
       "45"
      ]
     },
     "execution_count": 21,
     "metadata": {},
     "output_type": "execute_result"
    }
   ],
   "source": [
    "parks[(parks['DIST_SUP'] == 2) & (parks['Score'] == 0)].shape[0]"
   ]
  },
  {
   "cell_type": "code",
   "execution_count": 22,
   "id": "bde09cd8-c1aa-442e-bbfb-48f1b8c574e4",
   "metadata": {},
   "outputs": [
    {
     "data": {
      "text/plain": [
       "33"
      ]
     },
     "execution_count": 22,
     "metadata": {},
     "output_type": "execute_result"
    }
   ],
   "source": [
    "parks[(parks['DIST_SUP'] == 5) & (parks['Score'] == 0)].shape[0]"
   ]
  },
  {
   "cell_type": "code",
   "execution_count": 23,
   "id": "ccaff6cc-8be9-497b-bdd1-23ddd63e3e54",
   "metadata": {},
   "outputs": [
    {
     "data": {
      "text/plain": [
       "148"
      ]
     },
     "execution_count": 23,
     "metadata": {},
     "output_type": "execute_result"
    }
   ],
   "source": [
    "parks[(parks['DIST_SUP'] == 2) & (parks['Score'] == -1)].shape[0]"
   ]
  },
  {
   "cell_type": "code",
   "execution_count": 24,
   "id": "2d0f928d-12d3-471b-a32e-7c091938f3cb",
   "metadata": {},
   "outputs": [
    {
     "data": {
      "text/plain": [
       "459"
      ]
     },
     "execution_count": 24,
     "metadata": {},
     "output_type": "execute_result"
    }
   ],
   "source": [
    "parks[(parks['DIST_SUP'] == 5) & (parks['Score'] == -1)].shape[0]"
   ]
  },
  {
   "cell_type": "code",
   "execution_count": null,
   "id": "19459828-0db0-43e3-8891-ac86c7baa3b3",
   "metadata": {},
   "outputs": [],
   "source": []
  }
 ],
 "metadata": {
  "kernelspec": {
   "display_name": "Python 3 (ipykernel)",
   "language": "python",
   "name": "python3"
  },
  "language_info": {
   "codemirror_mode": {
    "name": "ipython",
    "version": 3
   },
   "file_extension": ".py",
   "mimetype": "text/x-python",
   "name": "python",
   "nbconvert_exporter": "python",
   "pygments_lexer": "ipython3",
   "version": "3.11.7"
  }
 },
 "nbformat": 4,
 "nbformat_minor": 5
}
